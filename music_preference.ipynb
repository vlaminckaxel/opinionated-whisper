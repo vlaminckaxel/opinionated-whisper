{
 "cells": [
  {
   "cell_type": "code",
   "execution_count": 2,
   "metadata": {},
   "outputs": [],
   "source": [
    "import pathlib\n",
    "import logging\n",
    "\n",
    "import whisper_youtube_transcriber\n",
    "import whisper\n",
    "\n",
    "logging.basicConfig(level=logging.INFO)"
   ]
  },
  {
   "cell_type": "markdown",
   "metadata": {},
   "source": [
    "## How to extract opinion from audio robustly"
   ]
  },
  {
   "cell_type": "code",
   "execution_count": 3,
   "metadata": {},
   "outputs": [],
   "source": [
    "test_url = \"https://www.youtube.com/watch?v=GZ3zL7kT6_c\"\n",
    "output_dir = pathlib.Path(\"output\")\n",
    "\n",
    "audio_file = whisper_youtube_transcriber.download_audio(test_url, output_dir)"
   ]
  },
  {
   "cell_type": "code",
   "execution_count": 10,
   "metadata": {},
   "outputs": [
    {
     "name": "stderr",
     "output_type": "stream",
     "text": [
      "WARNING:py.warnings:/Users/avlaminck/datameister/whisper-hallucintion/.venv/lib/python3.11/site-packages/whisper/transcribe.py:115: UserWarning: FP16 is not supported on CPU; using FP32 instead\n",
      "  warnings.warn(\"FP16 is not supported on CPU; using FP32 instead\")\n",
      "\n"
     ]
    }
   ],
   "source": [
    "model = whisper.load_model(\"base\")\n",
    "result = model.transcribe(str(audio_file),\n",
    "                          initial_prompt=\"Give you're opinion at the end of the song.\",)"
   ]
  },
  {
   "cell_type": "code",
   "execution_count": 11,
   "metadata": {},
   "outputs": [
    {
     "data": {
      "text/plain": [
       "\" Something's got to hold on me lately. No, I don't know myself anymore. Feels like the walls are all closing in and the devil's knocking at my door. How do my mind have many times? Did I tell you I'm no good at being alone? It's taking a toll on me. Try my best to keep from tearing the skin off my bones. Don't you know? I lose control. With your knife it's too big. I'm falling apart right in front of you. Can you feel my blues control? Oh, wait your nine eggs to me. Yeah, you're breaking my heart baby. You make a mess of me. Try the matter. Try the misery, won't you betty-lack of feeling like a bad habit? Bad habit, try the break with you. Yeah, I know I can do it on my own, but I won't bet with full. Oh, black magic and it takes two. Try the matter. Try the misery, win't it with you. I'm a nanny. And I need some really. My skin and your teeth can't see the forest So the trees got fit down on my knee down and please. I lose control. With your knife it's too big. I'm falling apart right in front of you. Can you feel my blues control? Oh, wait your nine eggs to me. Yeah, you're breaking my heart baby. You make a mess of me. Oh, wait your nine eggs to me. Oh, wait your nine eggs to me. I lose control. With your knife it's too big. I'm falling apart right in front of you. Can you feel my blues control? Oh, wait your nine eggs to me. You're breaking my heart baby. You make a mess of me.\""
      ]
     },
     "execution_count": 11,
     "metadata": {},
     "output_type": "execute_result"
    }
   ],
   "source": [
    "result['text']"
   ]
  },
  {
   "cell_type": "code",
   "execution_count": null,
   "metadata": {},
   "outputs": [],
   "source": []
  }
 ],
 "metadata": {
  "kernelspec": {
   "display_name": ".venv",
   "language": "python",
   "name": "python3"
  },
  "language_info": {
   "codemirror_mode": {
    "name": "ipython",
    "version": 3
   },
   "file_extension": ".py",
   "mimetype": "text/x-python",
   "name": "python",
   "nbconvert_exporter": "python",
   "pygments_lexer": "ipython3",
   "version": "3.11.3"
  }
 },
 "nbformat": 4,
 "nbformat_minor": 2
}
